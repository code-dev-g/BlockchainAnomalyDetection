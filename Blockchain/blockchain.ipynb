{
 "cells": [
  {
   "cell_type": "code",
   "execution_count": 4,
   "metadata": {},
   "outputs": [],
   "source": [
    "import hashlib\n",
    "import json\n",
    "import time"
   ]
  },
  {
   "attachments": {},
   "cell_type": "markdown",
   "metadata": {},
   "source": [
    "### Block\n",
    "\n",
    "The Block class represents a single block in the blockchain. It contains information about its index, transactions, timestamp, previous hash, nonce, and hash. It has a method calculate_hash() to compute the SHA-256 hash of the block, and a method mine_block() to mine the block by finding a nonce that results in a hash with a certain number of leading zeros. The number of leading zeros is determined by the difficulty of the blockchain. The block is mined by repeatedly calling calculate_hash() and incrementing the nonce until the hash has the required number of leading zeros. The block is then added to the blockchain."
   ]
  },
  {
   "cell_type": "code",
   "execution_count": 5,
   "metadata": {},
   "outputs": [],
   "source": [
    "class Block:\n",
    "    def __init__(self, index, transactions, timestamp, previous_hash):\n",
    "        self.index = index\n",
    "        self.transactions = transactions\n",
    "        self.timestamp = timestamp\n",
    "        self.previous_hash = previous_hash\n",
    "        self.nonce = 0\n",
    "        self.hash = self.calculate_hash()\n",
    "\n",
    "    def calculate_hash(self):\n",
    "        block_string = json.dumps({\n",
    "            \"index\": self.index,\n",
    "            \"transactions\": self.transactions,\n",
    "            \"timestamp\": self.timestamp,\n",
    "            \"previous_hash\": self.previous_hash,\n",
    "            \"nonce\": self.nonce,\n",
    "        }, sort_keys=True).encode()\n",
    "        return hashlib.sha256(block_string).hexdigest()\n",
    "\n",
    "    def mine_block(self, difficulty):\n",
    "        while self.hash[:difficulty] != \"0\" * difficulty:\n",
    "            self.nonce += 1\n",
    "            self.hash = self.calculate_hash()\n",
    "        print(\"Block mined:\", self.hash)"
   ]
  },
  {
   "attachments": {},
   "cell_type": "markdown",
   "metadata": {},
   "source": [
    "### Blockchain\n",
    "\n",
    "The Blockchain class represents the entire blockchain network. It contains a list of blocks, a difficulty level for mining, a list of pending transactions, and a mining reward. It has methods to create the genesis block, get the latest block, add a transaction to the pending transactions list, mine the pending transactions into a new block, and get the balance of a given address."
   ]
  },
  {
   "cell_type": "code",
   "execution_count": 6,
   "metadata": {},
   "outputs": [],
   "source": [
    "class Blockchain:\n",
    "    def __init__(self):\n",
    "        self.chain = [self.create_genesis_block()]\n",
    "        self.difficulty = 2\n",
    "        self.pending_transactions = []\n",
    "        self.mining_reward = 100\n",
    "\n",
    "    def create_genesis_block(self):\n",
    "        return Block(0, [], time.time(), \"0\")\n",
    "\n",
    "    def get_latest_block(self):\n",
    "        return self.chain[-1]\n",
    "\n",
    "    def add_transaction(self, sender, recipient, amount):\n",
    "        self.pending_transactions.append({\n",
    "            \"sender\": sender,\n",
    "            \"recipient\": recipient,\n",
    "            \"amount\": amount,\n",
    "        })\n",
    "\n",
    "    def mine_pending_transactions(self, miner_address):\n",
    "        block = Block(len(self.chain), self.pending_transactions, time.time(), self.get_latest_block().hash)\n",
    "        block.mine_block(self.difficulty)\n",
    "        self.chain.append(block)\n",
    "        self.pending_transactions = []\n",
    "        self.add_transaction(None, miner_address, self.mining_reward)\n",
    "\n",
    "    def get_balance(self, address):\n",
    "        balance = 0\n",
    "        for block in self.chain:\n",
    "            for transaction in block.transactions:\n",
    "                if transaction[\"sender\"] == address:\n",
    "                    balance -= transaction[\"amount\"]\n",
    "                elif transaction[\"recipient\"] == address:\n",
    "                    balance += transaction[\"amount\"]\n",
    "        return balance"
   ]
  },
  {
   "attachments": {},
   "cell_type": "markdown",
   "metadata": {},
   "source": [
    "### Test"
   ]
  },
  {
   "cell_type": "code",
   "execution_count": 7,
   "metadata": {},
   "outputs": [
    {
     "name": "stdout",
     "output_type": "stream",
     "text": [
      "Block mined: 0048bc0dc5a922bc58e2c0dbebf71b47ea25dbf0def202955ef54bf6fc2a6be2\n",
      "Alice's balance: -10\n",
      "Bob's balance: 5\n",
      "Charlie's balance: 5\n",
      "Miner's balance: 0\n"
     ]
    }
   ],
   "source": [
    "blockchain = Blockchain()\n",
    "\n",
    "blockchain.add_transaction(\"Alice\", \"Bob\", 10)\n",
    "blockchain.add_transaction(\"Bob\", \"Charlie\", 5)\n",
    "\n",
    "blockchain.mine_pending_transactions(\"Miner\")\n",
    "\n",
    "print(\"Alice's balance:\", blockchain.get_balance(\"Alice\"))\n",
    "print(\"Bob's balance:\", blockchain.get_balance(\"Bob\"))\n",
    "print(\"Charlie's balance:\", blockchain.get_balance(\"Charlie\"))\n",
    "print(\"Miner's balance:\", blockchain.get_balance(\"Miner\"))"
   ]
  }
 ],
 "metadata": {
  "kernelspec": {
   "display_name": "base",
   "language": "python",
   "name": "python3"
  },
  "language_info": {
   "codemirror_mode": {
    "name": "ipython",
    "version": 3
   },
   "file_extension": ".py",
   "mimetype": "text/x-python",
   "name": "python",
   "nbconvert_exporter": "python",
   "pygments_lexer": "ipython3",
   "version": "3.9.13"
  },
  "orig_nbformat": 4
 },
 "nbformat": 4,
 "nbformat_minor": 2
}
